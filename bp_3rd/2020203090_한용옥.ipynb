{
 "cells": [
  {
   "cell_type": "markdown",
   "id": "1049a9b0",
   "metadata": {},
   "source": [
    "## 데이터 준비"
   ]
  },
  {
   "cell_type": "markdown",
   "id": "95c53519",
   "metadata": {},
   "source": [
    "- 필수 라이브러리 import"
   ]
  },
  {
   "cell_type": "code",
   "execution_count": null,
   "id": "5bdf5a96",
   "metadata": {},
   "outputs": [],
   "source": [
    "import numpy as np\n",
    "import pandas as pd\n",
    "import matplotlib.pyplot as plt\n",
    "plt.rcParams['font.family'] = 'Malgun Gothic'\n",
    "import seaborn as sns\n",
    "\n",
    "from statsmodels.formula.api import ols, glm\n",
    "\n",
    "from sklearn.preprocessing import StandardScaler\n",
    "from sklearn.linear_model import LogisticRegression\n",
    "from sklearn.model_selection import train_test_split\n",
    "from sklearn.metrics import accuracy_score, precision_score, recall_score, f1_score, roc_auc_score"
   ]
  },
  {
   "cell_type": "markdown",
   "id": "88be5ad4",
   "metadata": {},
   "source": [
    "- 대기질 데이터 로드"
   ]
  },
  {
   "cell_type": "code",
   "execution_count": null,
   "id": "f80171a6",
   "metadata": {},
   "outputs": [],
   "source": [
    "air_data = pd.read_csv(\"2021년_전국_대기질_지수.csv\")"
   ]
  },
  {
   "cell_type": "markdown",
   "id": "917b21ab",
   "metadata": {},
   "source": [
    "- 질환 데이터 로드"
   ]
  },
  {
   "cell_type": "code",
   "execution_count": null,
   "id": "8f6e048d",
   "metadata": {},
   "outputs": [],
   "source": [
    "disease_data = pd.read_csv(\"2021년_환경성질환_이용정보.csv\")"
   ]
  },
  {
   "cell_type": "markdown",
   "id": "587b3a1d",
   "metadata": {},
   "source": [
    "- 범주형 -> 수치형 변환법 표시"
   ]
  },
  {
   "cell_type": "code",
   "execution_count": null,
   "id": "8982697b",
   "metadata": {},
   "outputs": [],
   "source": [
    "disease_code = {\"비염\":0, \"아토피\":1, \"천식\":2}\n",
    "gender_code = {\"남자\":0, \"여자\":1}"
   ]
  },
  {
   "cell_type": "markdown",
   "id": "e0bd4489",
   "metadata": {},
   "source": [
    "- 행정구역 축소 함수"
   ]
  },
  {
   "cell_type": "code",
   "execution_count": null,
   "id": "ef8de27c",
   "metadata": {},
   "outputs": [],
   "source": [
    "def parser(word):\n",
    "    if '북' in word:\n",
    "        return word[0]+'북'+' '\n",
    "    if '남' in word:\n",
    "        return word[0]+'남'+' '\n",
    "    else:\n",
    "        return word[:2]+' '"
   ]
  },
  {
   "cell_type": "markdown",
   "id": "32248240",
   "metadata": {},
   "source": [
    "### 공통 전처리"
   ]
  },
  {
   "cell_type": "markdown",
   "id": "12f52564",
   "metadata": {},
   "source": [
    "- 대기질 데이터 : 월별 평균으로 변환, 병합 위한 월 열 추가"
   ]
  },
  {
   "cell_type": "code",
   "execution_count": null,
   "id": "ff79f82d",
   "metadata": {},
   "outputs": [],
   "source": [
    "air_data[\"측정일시\"] = air_data[\"측정일시\"].apply(lambda x : x[:-3])\n",
    "air_data = air_data.groupby([\"지역\", \"측정일시\"]).mean().reset_index()\n",
    "air_data[\"월\"] =  air_data[\"측정일시\"].apply(lambda x : int(x[-2:]))"
   ]
  },
  {
   "cell_type": "markdown",
   "id": "250abc26",
   "metadata": {},
   "source": [
    "- 질환 데이터 : 시도명 지역으로 변환, 요양개시연 삭제, 성별/질병코드 부여"
   ]
  },
  {
   "cell_type": "code",
   "execution_count": null,
   "id": "343fe391",
   "metadata": {},
   "outputs": [],
   "source": [
    "disease_data[\"시도명\"] = disease_data[\"시도명\"].apply(lambda x : parser(x))\n",
    "disease_data[\"지역\"] = disease_data[\"시도명\"]+disease_data[\"시군구명\"]\n",
    "\n",
    "disease_data.drop(columns=[\"요양개시연\", \"시도명\", \"시군구명\"], inplace=True)\n",
    "disease_data.rename(columns={\"요양개시월\":\"월\"}, inplace=True)\n",
    "\n",
    "disease_data[\"질환\"] = disease_data[\"질환\"].apply(lambda x : disease_code[x])\n",
    "disease_data[\"성별\"] = disease_data[\"성별\"].apply(lambda x : gender_code[x])"
   ]
  },
  {
   "cell_type": "markdown",
   "id": "7c029aaa",
   "metadata": {},
   "source": [
    "## 1번 풀이"
   ]
  },
  {
   "cell_type": "markdown",
   "id": "22abe834",
   "metadata": {},
   "source": [
    "- 질환 데이터 전처리"
   ]
  },
  {
   "cell_type": "code",
   "execution_count": null,
   "id": "22663414",
   "metadata": {},
   "outputs": [],
   "source": [
    "q1_disease = disease_data.copy()\n",
    "q1_disease.drop(columns = [\"성별\", \"연령군\"], inplace = True)\n",
    "q1_disease = q1_disease.groupby([\"지역\", \"월\", \"질환\"]).sum().reset_index()"
   ]
  },
  {
   "cell_type": "markdown",
   "id": "654e38cb",
   "metadata": {},
   "source": [
    "- 문제에 맞게 결합"
   ]
  },
  {
   "cell_type": "code",
   "execution_count": null,
   "id": "3469c1c2",
   "metadata": {},
   "outputs": [],
   "source": [
    "q1_data = pd.merge(q1_disease, air_data, on=[\"지역\", \"월\"], how='left')\n",
    "q1_data"
   ]
  },
  {
   "cell_type": "markdown",
   "id": "d435eae3",
   "metadata": {},
   "source": [
    "- ols 이용 회귀"
   ]
  },
  {
   "cell_type": "code",
   "execution_count": null,
   "id": "ea1cf7d9",
   "metadata": {},
   "outputs": [],
   "source": [
    "Rformula = \"진료합계 ~ SO2 + CO + O3 + NO2 + PM10 + PM25 + 질환\"\n",
    "regression_result = ols(Rformula, data = q1_data).fit()"
   ]
  },
  {
   "cell_type": "markdown",
   "id": "2c9f4f6b",
   "metadata": {},
   "source": [
    "## 1번 정답"
   ]
  },
  {
   "cell_type": "markdown",
   "id": "7042f8b3",
   "metadata": {},
   "source": [
    "- 결과 표시"
   ]
  },
  {
   "cell_type": "code",
   "execution_count": null,
   "id": "d2753a93",
   "metadata": {},
   "outputs": [],
   "source": [
    "regression_result.summary()"
   ]
  },
  {
   "cell_type": "markdown",
   "id": "514df294",
   "metadata": {},
   "source": [
    "## 2번 풀이"
   ]
  },
  {
   "cell_type": "markdown",
   "id": "c8609c20",
   "metadata": {},
   "source": [
    "- 대기질 데이터 전처리"
   ]
  },
  {
   "cell_type": "code",
   "execution_count": null,
   "id": "242e2feb",
   "metadata": {},
   "outputs": [],
   "source": [
    "q2_air = air_data.copy()\n",
    "q2_air.drop(columns=['SO2', 'CO', 'O3', 'NO2', 'PM10', 'PM25'], inplace=True)"
   ]
  },
  {
   "cell_type": "markdown",
   "id": "db454703",
   "metadata": {},
   "source": [
    "- 질환 데이터 전처리"
   ]
  },
  {
   "cell_type": "code",
   "execution_count": null,
   "id": "1f752c80",
   "metadata": {},
   "outputs": [],
   "source": [
    "q2_disease = disease_data.copy()\n",
    "q2_disease.drop(columns = [\"연령군\", \"질환\"], inplace = True)\n",
    "q2_disease = q2_disease.groupby([\"지역\", \"월\", \"성별\"]).sum().reset_index()"
   ]
  },
  {
   "cell_type": "markdown",
   "id": "a5b5dbee",
   "metadata": {},
   "source": [
    "- 문제에 맞게 결합, 전처리"
   ]
  },
  {
   "cell_type": "code",
   "execution_count": null,
   "id": "48869869",
   "metadata": {},
   "outputs": [],
   "source": [
    "q2_data = pd.merge(q2_disease, q2_air, on = [\"지역\", \"월\"])\n",
    "q2_data = q2_data[[\"지역\", \"측정일시\", \"성별\", \"진료합계\"]]\n",
    "q2_data[\"진료비율\"] = None\n",
    "q2_data"
   ]
  },
  {
   "cell_type": "markdown",
   "id": "b3d1dd6f",
   "metadata": {},
   "source": [
    "- 데이터가 남 여로 반복됨을 확인 정확한 비율 구하기 위해 두 행씩 계산"
   ]
  },
  {
   "cell_type": "code",
   "execution_count": null,
   "id": "59225a41",
   "metadata": {},
   "outputs": [],
   "source": [
    "for i in range(0, len(q2_data.index), 2):\n",
    "    month_sum = q2_data.iloc[i,-2] + q2_data.iloc[i+1,-2]\n",
    "    q2_data.iloc[i,-1] = q2_data.iloc[i,-2] / month_sum\n",
    "    q2_data.iloc[i+1,-1] = q2_data.iloc[i+1,-2] / month_sum\n",
    "    \n",
    "q2_data.drop(columns=[\"진료합계\"], inplace=True)\n",
    "q2_data"
   ]
  },
  {
   "cell_type": "markdown",
   "id": "eeebe29c",
   "metadata": {},
   "source": [
    "- 시각화에 쓸 부분 추출"
   ]
  },
  {
   "cell_type": "code",
   "execution_count": null,
   "id": "808472a1",
   "metadata": {},
   "outputs": [],
   "source": [
    "male_ratio = q2_data.loc[q2_data['성별']==0, '진료비율']\n",
    "female_ratio = q2_data.loc[q2_data['성별']==1, '진료비율']"
   ]
  },
  {
   "cell_type": "markdown",
   "id": "ede96861",
   "metadata": {},
   "source": [
    "## 2번 정답"
   ]
  },
  {
   "cell_type": "markdown",
   "id": "3b01b74f",
   "metadata": {},
   "source": [
    "- 히스토그램으로 시각화"
   ]
  },
  {
   "cell_type": "code",
   "execution_count": null,
   "id": "ba040ea2",
   "metadata": {},
   "outputs": [],
   "source": [
    "sns.histplot(male_ratio, kde=True, color='blue', label='남자', stat='density')\n",
    "sns.histplot(female_ratio, kde=True, color = 'magenta', label='여자', stat='density')\n",
    "\n",
    "plt.title('성별에 따른 진료 비율')\n",
    "plt.legend()\n",
    "plt.show()"
   ]
  },
  {
   "cell_type": "markdown",
   "id": "8e1d75e1",
   "metadata": {},
   "source": [
    "## 3번 풀이"
   ]
  },
  {
   "cell_type": "markdown",
   "id": "05c9d466",
   "metadata": {},
   "source": [
    "- 질환 데이터 전처리"
   ]
  },
  {
   "cell_type": "code",
   "execution_count": null,
   "id": "3e714e1f",
   "metadata": {},
   "outputs": [],
   "source": [
    "q3_disease = disease_data.copy()\n",
    "minor = ['0-5', '6-11', '12-17']\n",
    "\n",
    "q3_disease = q3_disease.loc[q3_disease[\"연령군\"].apply(lambda x : x in minor), :].reset_index(drop=True)\n",
    "q3_disease.drop(columns=[\"연령군\"], inplace=True)\n",
    "\n",
    "q3_disease = q3_disease.groupby([\"지역\", \"월\", \"질환\", \"성별\"]).sum().reset_index()"
   ]
  },
  {
   "cell_type": "markdown",
   "id": "28b01a0c",
   "metadata": {},
   "source": [
    "- 문제에 맞게 결합"
   ]
  },
  {
   "cell_type": "code",
   "execution_count": null,
   "id": "ddf84e73",
   "metadata": {},
   "outputs": [],
   "source": [
    "q3_data = pd.merge(q3_disease, air_data, on=[\"지역\", \"월\"], how='left')\n",
    "q3_data"
   ]
  },
  {
   "cell_type": "markdown",
   "id": "87a9439f",
   "metadata": {},
   "source": [
    "- 피처와 라벨 분리, 피처는 정규분포 형태로 변환"
   ]
  },
  {
   "cell_type": "code",
   "execution_count": null,
   "id": "03d30aa1",
   "metadata": {},
   "outputs": [],
   "source": [
    "y = q3_data['성별']\n",
    "x = q3_data[['SO2', 'CO', 'O3', 'NO2', 'PM10', 'PM25', '질환', '진료합계']]\n",
    "\n",
    "scaler = StandardScaler()\n",
    "x = scaler.fit_transform(x)"
   ]
  },
  {
   "cell_type": "markdown",
   "id": "95e26e66",
   "metadata": {},
   "source": [
    "- 훈련-테스트 데이터 분리, 로지스틱 회귀 모델 생성, 학습, 적용"
   ]
  },
  {
   "cell_type": "code",
   "execution_count": null,
   "id": "d7507589",
   "metadata": {},
   "outputs": [],
   "source": [
    "x_train, x_test, y_train, y_test = train_test_split(x, y, test_size=0.3, random_state=0)\n",
    "\n",
    "model = LogisticRegression()\n",
    "model.fit(x_train, y_train)\n",
    "\n",
    "y_pred = model.predict(x_test)"
   ]
  },
  {
   "cell_type": "markdown",
   "id": "8d37aa6c",
   "metadata": {},
   "source": [
    "- 모델 평가 지수 계산"
   ]
  },
  {
   "cell_type": "code",
   "execution_count": null,
   "id": "3641baa0",
   "metadata": {},
   "outputs": [],
   "source": [
    "accuracy = accuracy_score(y_test, y_pred)\n",
    "precision = precision_score(y_test, y_pred)\n",
    "recall = recall_score(y_test, y_pred)\n",
    "f1 = f1_score(y_test, y_pred)\n",
    "roc_auc = roc_auc_score(y_test, y_pred)"
   ]
  },
  {
   "cell_type": "markdown",
   "id": "fbd3f62f",
   "metadata": {},
   "source": [
    "## 3번 정답"
   ]
  },
  {
   "cell_type": "code",
   "execution_count": null,
   "id": "ecfe1cad",
   "metadata": {},
   "outputs": [],
   "source": [
    "print('정확도: {0:.3f}, 정밀도: {1:.3f}, 재현율: {2:.3f}, F1: {3:.3f}'.format(accuracy, precision, recall, f1))\n",
    "print('ROC_AUC: {0:.3f}'.format(roc_auc))"
   ]
  },
  {
   "cell_type": "code",
   "execution_count": null,
   "id": "956f6a3e",
   "metadata": {},
   "outputs": [],
   "source": []
  },
  {
   "cell_type": "code",
   "execution_count": null,
   "id": "0e11fdb1",
   "metadata": {},
   "outputs": [],
   "source": []
  }
 ],
 "metadata": {
  "kernelspec": {
   "display_name": "Python 3 (ipykernel)",
   "language": "python",
   "name": "python3"
  },
  "language_info": {
   "codemirror_mode": {
    "name": "ipython",
    "version": 3
   },
   "file_extension": ".py",
   "mimetype": "text/x-python",
   "name": "python",
   "nbconvert_exporter": "python",
   "pygments_lexer": "ipython3",
   "version": "3.11.5"
  }
 },
 "nbformat": 4,
 "nbformat_minor": 5
}
